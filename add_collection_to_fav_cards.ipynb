{
 "cells": [
  {
   "cell_type": "code",
   "execution_count": 11,
   "metadata": {},
   "outputs": [],
   "source": [
    "import sys\n",
    "sys.path.append(\"1_utils\")\n",
    "import functions as fun"
   ]
  },
  {
   "cell_type": "code",
   "execution_count": null,
   "metadata": {},
   "outputs": [],
   "source": [
    "path_to_collection = \"0_data/4_mtgo_cards_collection/20241119_full_trade_list.dek\"\n",
    "with open(path_to_collection) as f:\n",
    "    lines = f.readlines()\n",
    "lines = lines[4:-1]\n",
    "ids_list = [line.split('CatID=\"')[1].split('\"')[0] for line in lines]\n",
    "for id in ids_list:\n",
    "    fun.add_fav_card(id)"
   ]
  }
 ],
 "metadata": {
  "kernelspec": {
   "display_name": ".venv",
   "language": "python",
   "name": "python3"
  },
  "language_info": {
   "codemirror_mode": {
    "name": "ipython",
    "version": 3
   },
   "file_extension": ".py",
   "mimetype": "text/x-python",
   "name": "python",
   "nbconvert_exporter": "python",
   "pygments_lexer": "ipython3",
   "version": "3.10.12"
  }
 },
 "nbformat": 4,
 "nbformat_minor": 2
}
