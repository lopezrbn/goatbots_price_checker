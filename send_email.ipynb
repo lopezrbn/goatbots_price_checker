{
 "cells": [
  {
   "cell_type": "code",
   "execution_count": 14,
   "metadata": {},
   "outputs": [],
   "source": [
    "import smtplib\n",
    "from email.mime.multipart import MIMEMultipart\n",
    "from email.mime.text import MIMEText\n",
    "import json\n",
    "import os\n",
    "import pandas as pd"
   ]
  },
  {
   "cell_type": "code",
   "execution_count": 12,
   "metadata": {},
   "outputs": [],
   "source": [
    "PATH_DATA_FOLDER = os.path.join(\"/home\", \"ubuntu\", \"lopezrbn\", \"goatbots_price_checker\", \"0_data\")\n",
    "PATH_OTHER_DATA = os.path.join(PATH_DATA_FOLDER, \"3_other_data\")\n",
    "PATH_SELL_ALERTS = os.path.join(PATH_OTHER_DATA, \"sell_alerts.json\")\n",
    "PATH_BUY_ALERTS = os.path.join(PATH_OTHER_DATA, \"buy_alerts.json\")"
   ]
  },
  {
   "cell_type": "code",
   "execution_count": 9,
   "metadata": {},
   "outputs": [],
   "source": [
    "with open(\"credentials.json\") as f:\n",
    "    credentials = json.load(f)\n",
    "    sender_email = credentials[\"sender_email\"]\n",
    "    receiver_email = credentials[\"receiver_email\"]\n",
    "    password = credentials[\"password\"]"
   ]
  },
  {
   "cell_type": "code",
   "execution_count": 29,
   "metadata": {},
   "outputs": [],
   "source": [
    "with open(PATH_SELL_ALERTS) as f:\n",
    "    # sell_alerts = json.load(f)\n",
    "    sell_alerts = pd.read_json(f, orient=\"index\")\n",
    "with open(PATH_BUY_ALERTS) as f:\n",
    "    buy_alerts = pd.read_json(f, orient=\"index\")"
   ]
  },
  {
   "cell_type": "code",
   "execution_count": 30,
   "metadata": {},
   "outputs": [
    {
     "data": {
      "text/html": [
       "<div>\n",
       "<style scoped>\n",
       "    .dataframe tbody tr th:only-of-type {\n",
       "        vertical-align: middle;\n",
       "    }\n",
       "\n",
       "    .dataframe tbody tr th {\n",
       "        vertical-align: top;\n",
       "    }\n",
       "\n",
       "    .dataframe thead th {\n",
       "        text-align: right;\n",
       "    }\n",
       "</style>\n",
       "<table border=\"1\" class=\"dataframe\">\n",
       "  <thead>\n",
       "    <tr style=\"text-align: right;\">\n",
       "      <th></th>\n",
       "      <th>name</th>\n",
       "      <th>cardset</th>\n",
       "      <th>foil</th>\n",
       "      <th>range_time</th>\n",
       "      <th>today_vs_range</th>\n",
       "      <th>price_min_range</th>\n",
       "      <th>price_today</th>\n",
       "      <th>price_max_range</th>\n",
       "    </tr>\n",
       "  </thead>\n",
       "  <tbody>\n",
       "    <tr>\n",
       "      <th>107243</th>\n",
       "      <td>Wrath of God</td>\n",
       "      <td>DMR</td>\n",
       "      <td>0</td>\n",
       "      <td>3m</td>\n",
       "      <td>100%</td>\n",
       "      <td>2.23</td>\n",
       "      <td>2.82</td>\n",
       "      <td>2.82</td>\n",
       "    </tr>\n",
       "  </tbody>\n",
       "</table>\n",
       "</div>"
      ],
      "text/plain": [
       "                name cardset  foil range_time today_vs_range  price_min_range  \\\n",
       "107243  Wrath of God     DMR     0         3m           100%             2.23   \n",
       "\n",
       "        price_today  price_max_range  \n",
       "107243         2.82             2.82  "
      ]
     },
     "execution_count": 30,
     "metadata": {},
     "output_type": "execute_result"
    }
   ],
   "source": [
    "sell_alerts['today_vs_range'] = sell_alerts['today_vs_range'].map(\"{:.0%}\".format)\n",
    "sell_alerts"
   ]
  },
  {
   "cell_type": "code",
   "execution_count": 31,
   "metadata": {},
   "outputs": [
    {
     "data": {
      "text/html": [
       "<div>\n",
       "<style scoped>\n",
       "    .dataframe tbody tr th:only-of-type {\n",
       "        vertical-align: middle;\n",
       "    }\n",
       "\n",
       "    .dataframe tbody tr th {\n",
       "        vertical-align: top;\n",
       "    }\n",
       "\n",
       "    .dataframe thead th {\n",
       "        text-align: right;\n",
       "    }\n",
       "</style>\n",
       "<table border=\"1\" class=\"dataframe\">\n",
       "  <thead>\n",
       "    <tr style=\"text-align: right;\">\n",
       "      <th></th>\n",
       "      <th>name</th>\n",
       "      <th>cardset</th>\n",
       "      <th>foil</th>\n",
       "      <th>range_time</th>\n",
       "      <th>today_vs_range</th>\n",
       "      <th>price_min_range</th>\n",
       "      <th>price_today</th>\n",
       "      <th>price_max_range</th>\n",
       "    </tr>\n",
       "  </thead>\n",
       "  <tbody>\n",
       "    <tr>\n",
       "      <th>10043</th>\n",
       "      <td>Ancient Tomb</td>\n",
       "      <td>TE</td>\n",
       "      <td>0</td>\n",
       "      <td>3m</td>\n",
       "      <td>19%</td>\n",
       "      <td>18.74</td>\n",
       "      <td>21.49</td>\n",
       "      <td>33.49</td>\n",
       "    </tr>\n",
       "    <tr>\n",
       "      <th>18245</th>\n",
       "      <td>Flooded Strand</td>\n",
       "      <td>ONS</td>\n",
       "      <td>0</td>\n",
       "      <td>3m</td>\n",
       "      <td>11%</td>\n",
       "      <td>7.19</td>\n",
       "      <td>8.44</td>\n",
       "      <td>18.99</td>\n",
       "    </tr>\n",
       "  </tbody>\n",
       "</table>\n",
       "</div>"
      ],
      "text/plain": [
       "                 name cardset  foil range_time today_vs_range  \\\n",
       "10043    Ancient Tomb      TE     0         3m            19%   \n",
       "18245  Flooded Strand     ONS     0         3m            11%   \n",
       "\n",
       "       price_min_range  price_today  price_max_range  \n",
       "10043            18.74        21.49            33.49  \n",
       "18245             7.19         8.44            18.99  "
      ]
     },
     "execution_count": 31,
     "metadata": {},
     "output_type": "execute_result"
    }
   ],
   "source": [
    "buy_alerts['today_vs_range'] = buy_alerts['today_vs_range'].map(\"{:.0%}\".format)\n",
    "buy_alerts"
   ]
  },
  {
   "cell_type": "code",
   "execution_count": 32,
   "metadata": {},
   "outputs": [
    {
     "data": {
      "text/plain": [
       "'<table border=\"1\" class=\"dataframe\">\\n  <thead>\\n    <tr style=\"text-align: right;\">\\n      <th>name</th>\\n      <th>cardset</th>\\n      <th>foil</th>\\n      <th>range_time</th>\\n      <th>today_vs_range</th>\\n      <th>price_min_range</th>\\n      <th>price_today</th>\\n      <th>price_max_range</th>\\n    </tr>\\n  </thead>\\n  <tbody>\\n    <tr>\\n      <td>Wrath of God</td>\\n      <td>DMR</td>\\n      <td>0</td>\\n      <td>3m</td>\\n      <td>100%</td>\\n      <td>2.23</td>\\n      <td>2.82</td>\\n      <td>2.82</td>\\n    </tr>\\n  </tbody>\\n</table>'"
      ]
     },
     "execution_count": 32,
     "metadata": {},
     "output_type": "execute_result"
    }
   ],
   "source": [
    "sell_alerts_html = sell_alerts.to_html(index=False)\n",
    "sell_alerts_html"
   ]
  },
  {
   "cell_type": "code",
   "execution_count": 33,
   "metadata": {},
   "outputs": [
    {
     "data": {
      "text/plain": [
       "'<table border=\"1\" class=\"dataframe\">\\n  <thead>\\n    <tr style=\"text-align: right;\">\\n      <th>name</th>\\n      <th>cardset</th>\\n      <th>foil</th>\\n      <th>range_time</th>\\n      <th>today_vs_range</th>\\n      <th>price_min_range</th>\\n      <th>price_today</th>\\n      <th>price_max_range</th>\\n    </tr>\\n  </thead>\\n  <tbody>\\n    <tr>\\n      <td>Ancient Tomb</td>\\n      <td>TE</td>\\n      <td>0</td>\\n      <td>3m</td>\\n      <td>19%</td>\\n      <td>18.74</td>\\n      <td>21.49</td>\\n      <td>33.49</td>\\n    </tr>\\n    <tr>\\n      <td>Flooded Strand</td>\\n      <td>ONS</td>\\n      <td>0</td>\\n      <td>3m</td>\\n      <td>11%</td>\\n      <td>7.19</td>\\n      <td>8.44</td>\\n      <td>18.99</td>\\n    </tr>\\n  </tbody>\\n</table>'"
      ]
     },
     "execution_count": 33,
     "metadata": {},
     "output_type": "execute_result"
    }
   ],
   "source": [
    "buy_alerts_html = buy_alerts.to_html(index=False)\n",
    "buy_alerts_html"
   ]
  },
  {
   "cell_type": "code",
   "execution_count": 3,
   "metadata": {},
   "outputs": [],
   "source": [
    "# Create message\n",
    "message = MIMEMultipart(\"alternative\")\n",
    "message[\"Subject\"] = \"Daily Price Update\"\n",
    "message[\"From\"] = sender_email\n",
    "message[\"To\"] = receiver_email"
   ]
  },
  {
   "cell_type": "code",
   "execution_count": 34,
   "metadata": {},
   "outputs": [],
   "source": [
    "# Email body\n",
    "body = f\"\"\"\n",
    "<html>\n",
    "    <head></head>\n",
    "    <body>\n",
    "        <p>Here's the daily update on prices...</p>\n",
    "        <h2>Sell Alerts</h2>\n",
    "        {sell_alerts_html}\n",
    "        <h2>Buy Alerts</h2>\n",
    "        {buy_alerts_html}\n",
    "    </body>\n",
    "</html>\n",
    "\"\"\"\n",
    "mime_text = MIMEText(body, \"html\")\n",
    "message.attach(mime_text)"
   ]
  },
  {
   "cell_type": "code",
   "execution_count": 35,
   "metadata": {},
   "outputs": [],
   "source": [
    "# Send the email\n",
    "with smtplib.SMTP_SSL('smtp.gmail.com', 465) as server:\n",
    "    server.login(sender_email, password)\n",
    "    server.sendmail(sender_email, receiver_email, message.as_string())"
   ]
  },
  {
   "cell_type": "code",
   "execution_count": null,
   "metadata": {},
   "outputs": [],
   "source": []
  }
 ],
 "metadata": {
  "kernelspec": {
   "display_name": ".venv",
   "language": "python",
   "name": "python3"
  },
  "language_info": {
   "codemirror_mode": {
    "name": "ipython",
    "version": 3
   },
   "file_extension": ".py",
   "mimetype": "text/x-python",
   "name": "python",
   "nbconvert_exporter": "python",
   "pygments_lexer": "ipython3",
   "version": "3.10.12"
  }
 },
 "nbformat": 4,
 "nbformat_minor": 2
}
