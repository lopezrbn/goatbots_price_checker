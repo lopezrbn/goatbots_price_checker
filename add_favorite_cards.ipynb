{
 "cells": [
  {
   "cell_type": "code",
   "execution_count": 1,
   "metadata": {},
   "outputs": [],
   "source": [
    "import pandas as pd\n",
    "import os\n",
    "import json"
   ]
  },
  {
   "cell_type": "code",
   "execution_count": 2,
   "metadata": {},
   "outputs": [],
   "source": [
    "PATH_DATA_FOLDER = os.path.join(\"/home\", \"ubuntu\", \"lopezrbn\", \"goatbots_price_checker\", \"0_data\")\n",
    "PATH_DF_FINAL = os.path.join(PATH_DATA_FOLDER, \"2_df_final\", \"df.parquet\")\n",
    "PATH_FAV_CARDS = os.path.join(PATH_DATA_FOLDER, \"3_fav_cards\", \"fav_cards.json\")"
   ]
  },
  {
   "cell_type": "code",
   "execution_count": 6,
   "metadata": {},
   "outputs": [],
   "source": [
    "df = pd.read_parquet(PATH_DF_FINAL)\n",
    "if not os.path.exists(PATH_FAV_CARDS):\n",
    "    with open(PATH_FAV_CARDS, \"w\") as f:\n",
    "        fav_cards = {}\n",
    "        json.dump(fav_cards, f)\n",
    "else:\n",
    "    with open(PATH_FAV_CARDS, \"r\") as f:\n",
    "        fav_cards = json.load(f)"
   ]
  },
  {
   "cell_type": "code",
   "execution_count": 11,
   "metadata": {},
   "outputs": [
    {
     "data": {
      "text/html": [
       "<div>\n",
       "<style scoped>\n",
       "    .dataframe tbody tr th:only-of-type {\n",
       "        vertical-align: middle;\n",
       "    }\n",
       "\n",
       "    .dataframe tbody tr th {\n",
       "        vertical-align: top;\n",
       "    }\n",
       "\n",
       "    .dataframe thead th {\n",
       "        text-align: right;\n",
       "    }\n",
       "</style>\n",
       "<table border=\"1\" class=\"dataframe\">\n",
       "  <thead>\n",
       "    <tr style=\"text-align: right;\">\n",
       "      <th></th>\n",
       "      <th>name</th>\n",
       "      <th>cardset</th>\n",
       "      <th>rarity</th>\n",
       "      <th>foil</th>\n",
       "      <th>20240630</th>\n",
       "    </tr>\n",
       "  </thead>\n",
       "  <tbody>\n",
       "    <tr>\n",
       "      <th>107243</th>\n",
       "      <td>Wrath of God</td>\n",
       "      <td>DMR</td>\n",
       "      <td>Rare</td>\n",
       "      <td>0</td>\n",
       "      <td>2.82</td>\n",
       "    </tr>\n",
       "    <tr>\n",
       "      <th>107563</th>\n",
       "      <td>Wrath of God</td>\n",
       "      <td>DMR</td>\n",
       "      <td>Rare</td>\n",
       "      <td>0</td>\n",
       "      <td>0.05</td>\n",
       "    </tr>\n",
       "    <tr>\n",
       "      <th>108061</th>\n",
       "      <td>Wrath of God</td>\n",
       "      <td>DMR</td>\n",
       "      <td>Rare</td>\n",
       "      <td>0</td>\n",
       "      <td>0.21</td>\n",
       "    </tr>\n",
       "  </tbody>\n",
       "</table>\n",
       "</div>"
      ],
      "text/plain": [
       "                name cardset rarity  foil  20240630\n",
       "107243  Wrath of God     DMR   Rare     0      2.82\n",
       "107563  Wrath of God     DMR   Rare     0      0.05\n",
       "108061  Wrath of God     DMR   Rare     0      0.21"
      ]
     },
     "execution_count": 11,
     "metadata": {},
     "output_type": "execute_result"
    }
   ],
   "source": [
    "name, cardset, foil = \"Wrath of God\", \"DMR\", 0\n",
    "df_filtered = df[(df[\"name\"]==name) & (df[\"cardset\"]==cardset) & (df[\"foil\"]==foil)].iloc[:,[0,1,2,3,-1]]\n",
    "index = df_filtered.index[0]\n",
    "df_filtered"
   ]
  },
  {
   "cell_type": "code",
   "execution_count": 12,
   "metadata": {},
   "outputs": [
    {
     "data": {
      "text/plain": [
       "{'10043': {'name': 'Ancient Tomb', 'cardset': 'TE', 'foil': 0},\n",
       " '18245': {'name': 'Flooded Strand', 'cardset': 'ONS', 'foil': 0},\n",
       " '107243': {'name': 'Wrath of God', 'cardset': 'DMR', 'foil': 0}}"
      ]
     },
     "execution_count": 12,
     "metadata": {},
     "output_type": "execute_result"
    }
   ],
   "source": [
    "fav_cards[index] = {\"name\": name, \"cardset\": cardset, \"foil\": foil}\n",
    "fav_cards"
   ]
  },
  {
   "cell_type": "code",
   "execution_count": 13,
   "metadata": {},
   "outputs": [],
   "source": [
    "with open(PATH_FAV_CARDS, \"w\") as f:\n",
    "    json.dump(fav_cards, f)"
   ]
  },
  {
   "cell_type": "code",
   "execution_count": null,
   "metadata": {},
   "outputs": [],
   "source": []
  }
 ],
 "metadata": {
  "kernelspec": {
   "display_name": ".venv",
   "language": "python",
   "name": "python3"
  },
  "language_info": {
   "codemirror_mode": {
    "name": "ipython",
    "version": 3
   },
   "file_extension": ".py",
   "mimetype": "text/x-python",
   "name": "python",
   "nbconvert_exporter": "python",
   "pygments_lexer": "ipython3",
   "version": "3.10.12"
  }
 },
 "nbformat": 4,
 "nbformat_minor": 2
}
