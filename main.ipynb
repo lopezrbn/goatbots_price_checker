{
 "cells": [
  {
   "cell_type": "markdown",
   "metadata": {},
   "source": [
    "NEXT STEPS:\n",
    "- Hacer que el servidor corra cada día download_prices.py para descargar los precios\n",
    "- Configurar lista de cartas favoritas para seguir sus precios\n",
    "- Configurar avisos por mail para subidas/bajadas de precios\n",
    "- Poner todos los paths en un json que se lea cuando haga falta en vez de poner rutas a mano, por si cambio la estructura de los directorios."
   ]
  },
  {
   "cell_type": "code",
   "execution_count": 1,
   "metadata": {},
   "outputs": [],
   "source": [
    "import pandas as pd\n",
    "import os\n",
    "import sys\n",
    "sys.path.append(\"1_utils\")\n",
    "import functions as fun"
   ]
  },
  {
   "cell_type": "code",
   "execution_count": 2,
   "metadata": {},
   "outputs": [],
   "source": [
    "if 'df' not in locals():\n",
    "    path_to_df = os.path.join(\"0_data\", \"2_df_final\", \"df.parquet\")\n",
    "    df = pd.read_parquet(path_to_df)"
   ]
  },
  {
   "cell_type": "code",
   "execution_count": 4,
   "metadata": {},
   "outputs": [
    {
     "data": {
      "text/html": [
       "<div>\n",
       "<style scoped>\n",
       "    .dataframe tbody tr th:only-of-type {\n",
       "        vertical-align: middle;\n",
       "    }\n",
       "\n",
       "    .dataframe tbody tr th {\n",
       "        vertical-align: top;\n",
       "    }\n",
       "\n",
       "    .dataframe thead th {\n",
       "        text-align: right;\n",
       "    }\n",
       "</style>\n",
       "<table border=\"1\" class=\"dataframe\">\n",
       "  <thead>\n",
       "    <tr style=\"text-align: right;\">\n",
       "      <th></th>\n",
       "      <th>name</th>\n",
       "      <th>cardset</th>\n",
       "      <th>rarity</th>\n",
       "      <th>foil</th>\n",
       "      <th>20240630</th>\n",
       "    </tr>\n",
       "  </thead>\n",
       "  <tbody>\n",
       "    <tr>\n",
       "      <th>107243</th>\n",
       "      <td>Wrath of God</td>\n",
       "      <td>DMR</td>\n",
       "      <td>Rare</td>\n",
       "      <td>0</td>\n",
       "      <td>2.82</td>\n",
       "    </tr>\n",
       "  </tbody>\n",
       "</table>\n",
       "</div>"
      ],
      "text/plain": [
       "                name cardset rarity  foil  20240630\n",
       "107243  Wrath of God     DMR   Rare     0      2.82"
      ]
     },
     "execution_count": 4,
     "metadata": {},
     "output_type": "execute_result"
    }
   ],
   "source": [
    "cardID = 107243\n",
    "fun.check_cardID(df, cardID)"
   ]
  },
  {
   "cell_type": "code",
   "execution_count": 6,
   "metadata": {},
   "outputs": [
    {
     "data": {
      "text/html": [
       "<div>\n",
       "<style scoped>\n",
       "    .dataframe tbody tr th:only-of-type {\n",
       "        vertical-align: middle;\n",
       "    }\n",
       "\n",
       "    .dataframe tbody tr th {\n",
       "        vertical-align: top;\n",
       "    }\n",
       "\n",
       "    .dataframe thead th {\n",
       "        text-align: right;\n",
       "    }\n",
       "</style>\n",
       "<table border=\"1\" class=\"dataframe\">\n",
       "  <thead>\n",
       "    <tr style=\"text-align: right;\">\n",
       "      <th></th>\n",
       "      <th>name</th>\n",
       "      <th>cardset</th>\n",
       "      <th>rarity</th>\n",
       "      <th>foil</th>\n",
       "      <th>20240630</th>\n",
       "    </tr>\n",
       "  </thead>\n",
       "  <tbody>\n",
       "    <tr>\n",
       "      <th>18245</th>\n",
       "      <td>Flooded Strand</td>\n",
       "      <td>ONS</td>\n",
       "      <td>Rare</td>\n",
       "      <td>0</td>\n",
       "      <td>8.44</td>\n",
       "    </tr>\n",
       "    <tr>\n",
       "      <th>18246</th>\n",
       "      <td>Flooded Strand</td>\n",
       "      <td>ONS</td>\n",
       "      <td>Rare</td>\n",
       "      <td>1</td>\n",
       "      <td>9.99</td>\n",
       "    </tr>\n",
       "    <tr>\n",
       "      <th>43580</th>\n",
       "      <td>Flooded Strand</td>\n",
       "      <td>PRM</td>\n",
       "      <td>Rare</td>\n",
       "      <td>0</td>\n",
       "      <td>5.59</td>\n",
       "    </tr>\n",
       "    <tr>\n",
       "      <th>54194</th>\n",
       "      <td>Flooded Strand</td>\n",
       "      <td>KTK</td>\n",
       "      <td>Rare</td>\n",
       "      <td>0</td>\n",
       "      <td>1.20</td>\n",
       "    </tr>\n",
       "    <tr>\n",
       "      <th>54195</th>\n",
       "      <td>Flooded Strand</td>\n",
       "      <td>KTK</td>\n",
       "      <td>Rare</td>\n",
       "      <td>1</td>\n",
       "      <td>1.90</td>\n",
       "    </tr>\n",
       "    <tr>\n",
       "      <th>58839</th>\n",
       "      <td>Flooded Strand</td>\n",
       "      <td>EXP</td>\n",
       "      <td>Mythic</td>\n",
       "      <td>0</td>\n",
       "      <td>5.59</td>\n",
       "    </tr>\n",
       "    <tr>\n",
       "      <th>58840</th>\n",
       "      <td>Flooded Strand</td>\n",
       "      <td>EXP</td>\n",
       "      <td>Mythic</td>\n",
       "      <td>1</td>\n",
       "      <td>2.87</td>\n",
       "    </tr>\n",
       "    <tr>\n",
       "      <th>69252</th>\n",
       "      <td>Flooded Strand</td>\n",
       "      <td>PRM</td>\n",
       "      <td>Rare</td>\n",
       "      <td>0</td>\n",
       "      <td>5.59</td>\n",
       "    </tr>\n",
       "    <tr>\n",
       "      <th>83569</th>\n",
       "      <td>Flooded Strand</td>\n",
       "      <td>ZNE</td>\n",
       "      <td>Mythic</td>\n",
       "      <td>0</td>\n",
       "      <td>8.67</td>\n",
       "    </tr>\n",
       "  </tbody>\n",
       "</table>\n",
       "</div>"
      ],
      "text/plain": [
       "                 name cardset  rarity  foil  20240630\n",
       "18245  Flooded Strand     ONS    Rare     0      8.44\n",
       "18246  Flooded Strand     ONS    Rare     1      9.99\n",
       "43580  Flooded Strand     PRM    Rare     0      5.59\n",
       "54194  Flooded Strand     KTK    Rare     0      1.20\n",
       "54195  Flooded Strand     KTK    Rare     1      1.90\n",
       "58839  Flooded Strand     EXP  Mythic     0      5.59\n",
       "58840  Flooded Strand     EXP  Mythic     1      2.87\n",
       "69252  Flooded Strand     PRM    Rare     0      5.59\n",
       "83569  Flooded Strand     ZNE  Mythic     0      8.67"
      ]
     },
     "execution_count": 6,
     "metadata": {},
     "output_type": "execute_result"
    }
   ],
   "source": [
    "name, cardset, foil = \"Flooded Strand\", \"ONS\", 0\n",
    "fun.check_cardname(df, name)"
   ]
  },
  {
   "cell_type": "code",
   "execution_count": 4,
   "metadata": {},
   "outputs": [
    {
     "data": {
      "text/plain": [
       "(0.11, 7.19, 8.44, 18.99)"
      ]
     },
     "execution_count": 4,
     "metadata": {},
     "output_type": "execute_result"
    }
   ],
   "source": [
    "fun.price_analysis(df, name, cardset, foil)"
   ]
  },
  {
   "cell_type": "code",
   "execution_count": 5,
   "metadata": {},
   "outputs": [
    {
     "data": {
      "image/png": "[encoded data removed]",
      "text/plain": [
       "<Figure size 600x400 with 1 Axes>"
      ]
     },
     "metadata": {},
     "output_type": "display_data"
    }
   ],
   "source": [
    "fun.plot_card_prices(df, name, cardset, foil)"
   ]
  },
  {
   "cell_type": "code",
   "execution_count": null,
   "metadata": {},
   "outputs": [],
   "source": []
  }
 ],
 "metadata": {
  "kernelspec": {
   "display_name": ".venv",
   "language": "python",
   "name": "python3"
  },
  "language_info": {
   "codemirror_mode": {
    "name": "ipython",
    "version": 3
   },
   "file_extension": ".py",
   "mimetype": "text/x-python",
   "name": "python",
   "nbconvert_exporter": "python",
   "pygments_lexer": "ipython3",
   "version": "3.10.12"
  }
 },
 "nbformat": 4,
 "nbformat_minor": 2
}
