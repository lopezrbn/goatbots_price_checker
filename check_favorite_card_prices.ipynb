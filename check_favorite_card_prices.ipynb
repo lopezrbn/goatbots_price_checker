{
 "cells": [
  {
   "cell_type": "code",
   "execution_count": 7,
   "metadata": {},
   "outputs": [],
   "source": [
    "import pandas as pd\n",
    "import os\n",
    "import sys\n",
    "sys.path.append(\"1_utils\")\n",
    "import functions as fun\n",
    "import json"
   ]
  },
  {
   "cell_type": "code",
   "execution_count": 35,
   "metadata": {},
   "outputs": [],
   "source": [
    "def check_price_alert(cardID, df, range_time=\"3m\", sell_alert=0.75, buy_alert=0.25):\n",
    "    today_vs_range, price_min_range, price_today, price_max_range = fun.price_analysis(df, cardID=cardID, range_time=range_time)\n",
    "    if today_vs_range <= buy_alert:\n",
    "        # BUY ALERT\n",
    "        return (-1, cardID, range_time, today_vs_range, price_min_range, price_today, price_max_range)\n",
    "    elif today_vs_range >= sell_alert:\n",
    "        # SELL ALERT\n",
    "        return (1, cardID, range_time, today_vs_range, price_min_range, price_today, price_max_range)\n",
    "    else:\n",
    "        # HOLD ALERT\n",
    "        return (0, cardID, range_time, today_vs_range, price_min_range, price_today, price_max_range)\n",
    "\n"
   ]
  },
  {
   "cell_type": "code",
   "execution_count": 31,
   "metadata": {},
   "outputs": [],
   "source": [
    "PATH_DATA_FOLDER = os.path.join(\"/home\", \"ubuntu\", \"lopezrbn\", \"goatbots_price_checker\", \"0_data\")\n",
    "PATH_DF_FINAL = os.path.join(PATH_DATA_FOLDER, \"2_df_final\", \"df.parquet\")\n",
    "PATH_OTHER_DATA = os.path.join(PATH_DATA_FOLDER, \"3_other_data\")\n",
    "PATH_FAV_CARDS = os.path.join(PATH_OTHER_DATA, \"fav_cards.json\")\n",
    "PATH_SELL_ALERTS = os.path.join(PATH_OTHER_DATA, \"sell_alerts.json\")\n",
    "PATH_BUY_ALERTS = os.path.join(PATH_OTHER_DATA, \"buy_alerts.json\")"
   ]
  },
  {
   "cell_type": "code",
   "execution_count": 8,
   "metadata": {},
   "outputs": [],
   "source": [
    "with open(PATH_FAV_CARDS, \"r\") as f:\n",
    "    fav_cards = json.load(f)\n",
    "df = pd.read_parquet(PATH_DF_FINAL)"
   ]
  },
  {
   "cell_type": "code",
   "execution_count": 11,
   "metadata": {},
   "outputs": [
    {
     "data": {
      "text/plain": [
       "{'10043': {'name': 'Ancient Tomb', 'cardset': 'TE', 'foil': 0},\n",
       " '18245': {'name': 'Flooded Strand', 'cardset': 'ONS', 'foil': 0},\n",
       " '107243': {'name': 'Wrath of God', 'cardset': 'DMR', 'foil': 0}}"
      ]
     },
     "execution_count": 11,
     "metadata": {},
     "output_type": "execute_result"
    }
   ],
   "source": [
    "fav_cards"
   ]
  },
  {
   "cell_type": "code",
   "execution_count": 36,
   "metadata": {},
   "outputs": [
    {
     "data": {
      "text/plain": [
       "[(-1, '10043', '3m', 0.19, 18.74, 21.49, 33.49),\n",
       " (-1, '18245', '3m', 0.11, 7.19, 8.44, 18.99),\n",
       " (1, '107243', '3m', 1.0, 2.23, 2.82, 2.82)]"
      ]
     },
     "execution_count": 36,
     "metadata": {},
     "output_type": "execute_result"
    }
   ],
   "source": [
    "alerts = []\n",
    "for cardID in fav_cards.keys():\n",
    "    alerts.append(check_price_alert(cardID, df))\n",
    "alerts"
   ]
  },
  {
   "cell_type": "code",
   "execution_count": 41,
   "metadata": {},
   "outputs": [],
   "source": [
    "sell_alerts = {}\n",
    "buy_alerts = {}\n",
    "for alert in alerts:\n",
    "    if alert[0] == 1:\n",
    "        sell_alerts[alert[1]] = {\n",
    "            \"name\": fav_cards[alert[1]][\"name\"],\n",
    "            \"cardset\": fav_cards[alert[1]][\"cardset\"],\n",
    "            \"foil\": fav_cards[alert[1]][\"foil\"],\n",
    "            \"range_time\": alert[2],\n",
    "            \"today_vs_range\": alert[3],\n",
    "            \"price_min_range\": alert[4],\n",
    "            \"price_today\": alert[5],\n",
    "            \"price_max_range\": alert[6]\n",
    "        }\n",
    "    elif alert[0] == -1:\n",
    "        buy_alerts[alert[1]] = {\n",
    "            \"name\": fav_cards[alert[1]][\"name\"],\n",
    "            \"cardset\": fav_cards[alert[1]][\"cardset\"],\n",
    "            \"foil\": fav_cards[alert[1]][\"foil\"],\n",
    "            \"range_time\": alert[2],\n",
    "            \"today_vs_range\": alert[3],\n",
    "            \"price_min_range\": alert[4],\n",
    "            \"price_today\": alert[5],\n",
    "            \"price_max_range\": alert[6]\n",
    "        }"
   ]
  },
  {
   "cell_type": "code",
   "execution_count": 42,
   "metadata": {},
   "outputs": [
    {
     "data": {
      "text/plain": [
       "{'107243': {'name': 'Wrath of God',\n",
       "  'cardset': 'DMR',\n",
       "  'foil': 0,\n",
       "  'range_time': '3m',\n",
       "  'today_vs_range': 1.0,\n",
       "  'price_min_range': 2.23,\n",
       "  'price_today': 2.82,\n",
       "  'price_max_range': 2.82}}"
      ]
     },
     "execution_count": 42,
     "metadata": {},
     "output_type": "execute_result"
    }
   ],
   "source": [
    "sell_alerts"
   ]
  },
  {
   "cell_type": "code",
   "execution_count": 43,
   "metadata": {},
   "outputs": [
    {
     "data": {
      "text/plain": [
       "{'10043': {'name': 'Ancient Tomb',\n",
       "  'cardset': 'TE',\n",
       "  'foil': 0,\n",
       "  'range_time': '3m',\n",
       "  'today_vs_range': 0.19,\n",
       "  'price_min_range': 18.74,\n",
       "  'price_today': 21.49,\n",
       "  'price_max_range': 33.49},\n",
       " '18245': {'name': 'Flooded Strand',\n",
       "  'cardset': 'ONS',\n",
       "  'foil': 0,\n",
       "  'range_time': '3m',\n",
       "  'today_vs_range': 0.11,\n",
       "  'price_min_range': 7.19,\n",
       "  'price_today': 8.44,\n",
       "  'price_max_range': 18.99}}"
      ]
     },
     "execution_count": 43,
     "metadata": {},
     "output_type": "execute_result"
    }
   ],
   "source": [
    "buy_alerts"
   ]
  },
  {
   "cell_type": "code",
   "execution_count": 44,
   "metadata": {},
   "outputs": [],
   "source": [
    "with open(PATH_SELL_ALERTS, \"w\") as f:\n",
    "    json.dump(sell_alerts, f)\n",
    "with open(PATH_BUY_ALERTS, \"w\") as f:\n",
    "    json.dump(buy_alerts, f)"
   ]
  },
  {
   "cell_type": "code",
   "execution_count": null,
   "metadata": {},
   "outputs": [],
   "source": []
  }
 ],
 "metadata": {
  "kernelspec": {
   "display_name": ".venv",
   "language": "python",
   "name": "python3"
  },
  "language_info": {
   "codemirror_mode": {
    "name": "ipython",
    "version": 3
   },
   "file_extension": ".py",
   "mimetype": "text/x-python",
   "name": "python",
   "nbconvert_exporter": "python",
   "pygments_lexer": "ipython3",
   "version": "3.10.12"
  }
 },
 "nbformat": 4,
 "nbformat_minor": 2
}
